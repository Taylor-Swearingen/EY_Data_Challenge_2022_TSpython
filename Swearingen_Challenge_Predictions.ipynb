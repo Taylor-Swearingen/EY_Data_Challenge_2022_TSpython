{
 "cells": [
  {
   "cell_type": "markdown",
   "id": "49761f7e",
   "metadata": {
    "deletable": false,
    "editable": false
   },
   "source": [
    "# EY Challenge "
   ]
  },
  {
   "cell_type": "markdown",
   "id": "90471e4d",
   "metadata": {},
   "source": [
    "My plan is to convert all of the categorical variables to numeric variables and see if a regression or other predictions\n",
    "will help me solve for the species."
   ]
  },
  {
   "cell_type": "code",
   "execution_count": null,
   "id": "84ce8d00",
   "metadata": {},
   "outputs": [],
   "source": [
    "# load in data\n",
    "# Other\n",
    "import pandas as pd\n",
    "import matplotlib.pyplot as plt\n",
    "import os\n",
    "import gc\n",
    "import zipfile\n",
    "from sklearn.model_selection import train_test_split\n",
    "import sklearn.linear_model\n",
    "from sklearn.metrics import confusion_matrix\n",
    "import numpy as np\n",
    "\n",
    "\n",
    "# Folder to store extracted files\n",
    "storage_path = './files/output/'\n",
    "\n",
    "# Path to data folder with provided material\n",
    "data_path = './'"
   ]
  },
  {
   "cell_type": "code",
   "execution_count": null,
   "id": "a57a499c",
   "metadata": {
    "code_folding": [
     0
    ]
   },
   "outputs": [],
   "source": [
    "#taking data from only regions of interest\n",
    "if not os.path.exists(data_path+'/training_data/'):\n",
    "    os.mkdir(data_path+'/training_data/')\n",
    "    with zipfile.ZipFile(data_path+'/GBIF_training_data.zip', 'r') as zip_ref:\n",
    "        zip_ref.extractall(data_path+'/training_data/')\n",
    "        \n",
    "def filter_bbox(frogs, bbox):\n",
    "    frogs = frogs[lambda x: \n",
    "        (x.decimalLongitude >= bbox[0]) &\n",
    "        (x.decimalLatitude >= bbox[1]) &\n",
    "        (x.decimalLongitude <= bbox[2]) &\n",
    "        (x.decimalLatitude <= bbox[3])\n",
    "    ]\n",
    "    return frogs\n",
    "\n",
    "def get_frogs(file, year_range=None, bbox=None):\n",
    "    \"\"\"Returns the dataframe of all frog occurrences for the bounding box specified.\"\"\"\n",
    "    columns = [\n",
    "        'gbifID','eventDate','country','continent','stateProvince',\n",
    "        'decimalLatitude','decimalLongitude','species'\n",
    "    ]\n",
    "    country_names = {\n",
    "        'AU':'Australia', 'CR':'Costa Rica', 'ZA':'South Africa','MX':'Mexico','HN':'Honduras',\n",
    "        'MZ':'Mozambique','BW':'Botswana','MW':'Malawi','CO':'Colombia','PA':'Panama','NI':'Nicaragua',\n",
    "        'BZ':'Belize','ZW':'Zimbabwe','SZ':'Eswatini','ZM':'Zambia','GT':'Guatemala','LS':'Lesotho',\n",
    "        'SV':'El Salvador', 'AO':'Angola', np.nan:'unknown or invalid'\n",
    "    }\n",
    "    continent_names = {\n",
    "        'AU':'Australia', 'CR':'Central America', 'ZA':'Africa','MX':'Central America','HN':'Central America',\n",
    "        'MZ':'Africa','BW':'Africa','MW':'Africa','CO':'Central America','PA':'Central America',\n",
    "        'NI':'Central America','BZ':'Central America','ZW':'Africa','SZ':'Africa','ZM':'Africa',\n",
    "        'GT':'Central America','LS':'Africa','SV':'Central America','AO':'Africa', np.nan:'unknown or invalid' \n",
    "    }\n",
    "    frogs = (\n",
    "        pd.read_csv(data_path+'./training_data/occurrence.txt', sep='\\t', parse_dates=['eventDate'])\n",
    "        .assign(\n",
    "            country =  lambda x: x.countryCode.map(country_names),\n",
    "            continent =  lambda x: x.countryCode.map(continent_names),\n",
    "            species = lambda x: x.species.str.title()\n",
    "        )\n",
    "        [columns]\n",
    "    )\n",
    "    if year_range is not None:\n",
    "        frogs = frogs[lambda x: \n",
    "            (x.eventDate.dt.year >= year_range[0]) & \n",
    "            (x.eventDate.dt.year <= year_range[1])\n",
    "        ]\n",
    "    if bbox is not None:\n",
    "        frogs = filter_bbox(frogs, bbox)\n",
    "    return frogs"
   ]
  },
  {
   "cell_type": "code",
   "execution_count": null,
   "id": "a2601daf",
   "metadata": {},
   "outputs": [],
   "source": [
    "# creating a dataframe to hold the data\n",
    "all_frog_data = get_frogs(data_path+'/training_data/occurrence.txt')\n",
    "all_frog_data.sample(10, random_state=420)\n",
    "all_frog_data.head()"
   ]
  },
  {
   "cell_type": "code",
   "execution_count": null,
   "id": "1eb418d0",
   "metadata": {
    "cell_style": "split"
   },
   "outputs": [],
   "source": [
    "# see the types of data\n",
    "all_frog_data.dtypes"
   ]
  },
  {
   "cell_type": "code",
   "execution_count": null,
   "id": "f30bfb4b",
   "metadata": {
    "cell_style": "split"
   },
   "outputs": [],
   "source": [
    "# counting any null values\n",
    "print(all_frog_data.isnull().sum(axis = 0))"
   ]
  },
  {
   "cell_type": "code",
   "execution_count": null,
   "id": "bdc67d9b",
   "metadata": {},
   "outputs": [],
   "source": [
    "# take only the year from the eventDate\n",
    "all_frog_data['year'] = pd.DatetimeIndex(all_frog_data['eventDate']).year"
   ]
  },
  {
   "cell_type": "code",
   "execution_count": null,
   "id": "179c0408",
   "metadata": {},
   "outputs": [],
   "source": [
    "# Take only Australia, Costa Rica, and South Africa\n",
    "frog_data = all_frog_data[all_frog_data.country.str.contains('Australia|Costa Rica|South Africa')]\n",
    "\n",
    "# drop first two columns\n",
    "frog_data = frog_data.drop(columns = ['gbifID','eventDate'])"
   ]
  },
  {
   "cell_type": "code",
   "execution_count": null,
   "id": "66de1091",
   "metadata": {
    "cell_style": "split"
   },
   "outputs": [],
   "source": [
    "frog_data.head(n = 5)"
   ]
  },
  {
   "cell_type": "code",
   "execution_count": null,
   "id": "47779716",
   "metadata": {
    "cell_style": "split"
   },
   "outputs": [],
   "source": [
    "# printing each country\n",
    "print(frog_data['country'].unique())"
   ]
  },
  {
   "cell_type": "markdown",
   "id": "b6277592",
   "metadata": {},
   "source": [
    "After loading in all of the packages and the data we are going to look and see how many values are missing from the dataset."
   ]
  },
  {
   "cell_type": "code",
   "execution_count": null,
   "id": "a83243d3",
   "metadata": {
    "cell_style": "split"
   },
   "outputs": [],
   "source": [
    "# counting any null values\n",
    "print(frog_data.isnull().sum(axis = 0))\n",
    "print()"
   ]
  },
  {
   "cell_type": "markdown",
   "id": "83154b8b",
   "metadata": {},
   "source": [
    "We are going to change the categorical data into numeric data for the analysis."
   ]
  },
  {
   "cell_type": "code",
   "execution_count": null,
   "id": "0c9ed604",
   "metadata": {
    "cell_style": "center",
    "code_folding": [
     4
    ]
   },
   "outputs": [],
   "source": [
    "# create numeric features for variables\n",
    "# country\n",
    "frog_data['country_numeric'] = 0\n",
    "\n",
    "for index, value in frog_data.iterrows() :\n",
    "    \n",
    "    if frog_data.loc[index, 'country'] == 'Australia':\n",
    "        frog_data.loc[index, 'country_numeric'] = 1\n",
    "    \n",
    "    elif frog_data.loc[index, 'country'] == 'Costa Rica':\n",
    "        frog_data.loc[index, 'country_numeric'] = 2\n",
    "    \n",
    "    elif frog_data.loc[index, 'country'] == 'South Africa':\n",
    "        frog_data.loc[index, 'country_numeric'] = 3\n",
    "        \n",
    "    else :\n",
    "        frog_data.loc[index, 'country_numeric'] = 0\n",
    "\n",
    "print(frog_data[['country','country_numeric']].head())"
   ]
  },
  {
   "cell_type": "code",
   "execution_count": null,
   "id": "a5b1c4c2",
   "metadata": {
    "cell_style": "center"
   },
   "outputs": [],
   "source": [
    "# # printing each continent\n",
    "# print(frog_data['continent'].unique())"
   ]
  },
  {
   "cell_type": "code",
   "execution_count": null,
   "id": "c68f834d",
   "metadata": {
    "cell_style": "center",
    "code_folding": [
     0
    ]
   },
   "outputs": [],
   "source": [
    "# # create numeric features for variables\n",
    "# # continent\n",
    "# frog_data['continent_numeric'] = 0\n",
    "\n",
    "# for index, value in frog_data.iterrows() :\n",
    "    \n",
    "#     if frog_data.loc[index, 'continent'] == 'Australia':\n",
    "#         frog_data.loc[index, 'continent_numeric'] = 1\n",
    "    \n",
    "#     elif frog_data.loc[index, 'continent'] == 'Central America':\n",
    "#         frog_data.loc[index, 'continent_numeric'] = 2\n",
    "    \n",
    "#     elif frog_data.loc[index, 'continent'] == 'Africa':\n",
    "#         frog_data.loc[index, 'continent_numeric'] = 3\n",
    "        \n",
    "#     else :\n",
    "#         frog_data.loc[index, 'continent_numeric'] = 0\n",
    "\n",
    "# print(frog_data[['continent','continent_numeric']].head())"
   ]
  },
  {
   "cell_type": "markdown",
   "id": "caed0420",
   "metadata": {},
   "source": [
    "Took out the continent for future error avoidance.^"
   ]
  },
  {
   "cell_type": "code",
   "execution_count": null,
   "id": "d6941bc7",
   "metadata": {
    "cell_style": "split",
    "code_folding": []
   },
   "outputs": [],
   "source": [
    "# printing each state/province\n",
    "print(frog_data['stateProvince'].unique())"
   ]
  },
  {
   "cell_type": "code",
   "execution_count": null,
   "id": "2416c61a",
   "metadata": {
    "cell_style": "split"
   },
   "outputs": [],
   "source": [
    "# printing each species\n",
    "print(frog_data['species'].unique())"
   ]
  },
  {
   "cell_type": "code",
   "execution_count": null,
   "id": "48ee2bb3",
   "metadata": {
    "cell_style": "split",
    "code_folding": [
     0,
     6,
     9,
     12,
     15,
     18,
     21,
     42,
     45,
     48,
     51,
     54,
     57,
     60,
     63,
     66,
     69,
     72,
     75,
     78,
     81,
     84,
     87
    ]
   },
   "outputs": [],
   "source": [
    "# create numeric features for variables\n",
    "# state/province\n",
    "frog_data['stateProvince_numeric'] = 0\n",
    "\n",
    "for index, value in frog_data.iterrows() :\n",
    "    \n",
    "    if frog_data.loc[index, 'stateProvince'] == 'New South Wales':\n",
    "        frog_data.loc[index, 'stateProvince_numeric'] = 1\n",
    "    \n",
    "    elif frog_data.loc[index, 'stateProvince'] == 'Puntarenas':\n",
    "        frog_data.loc[index, 'stateProvince_numeric'] = 2\n",
    "    \n",
    "    elif frog_data.loc[index, 'stateProvince'] == 'Heredia':\n",
    "        frog_data.loc[index, 'stateProvince_numeric'] = 3\n",
    "        \n",
    "    elif frog_data.loc[index, 'stateProvince'] == 'Queensland':\n",
    "        frog_data.loc[index, 'stateProvince_numeric'] = 4\n",
    "           \n",
    "    elif frog_data.loc[index, 'stateProvince'] == 'Limón':\n",
    "        frog_data.loc[index, 'stateProvince_numeric'] = 5\n",
    "           \n",
    "    elif frog_data.loc[index, 'stateProvince'] == 'South Australia':\n",
    "        frog_data.loc[index, 'stateProvince_numeric'] = 6\n",
    "           \n",
    "    elif frog_data.loc[index, 'stateProvince'] == 'Gauteng':\n",
    "        frog_data.loc[index, 'stateProvince_numeric'] = 7\n",
    "        \n",
    "    elif frog_data.loc[index, 'stateProvince'] == 'Western Cape':\n",
    "        frog_data.loc[index, 'stateProvince_numeric'] = 8\n",
    "        \n",
    "    elif frog_data.loc[index, 'stateProvince'] == 'Tasmania':\n",
    "        frog_data.loc[index, 'stateProvince_numeric'] = 9\n",
    "        \n",
    "    elif frog_data.loc[index, 'stateProvince'] == 'Alajuela':\n",
    "        frog_data.loc[index, 'stateProvince_numeric'] = 10\n",
    "        \n",
    "    elif frog_data.loc[index, 'stateProvince'] == 'KwaZulu-Natal':\n",
    "        frog_data.loc[index, 'stateProvince_numeric'] = 11\n",
    "        \n",
    "    elif frog_data.loc[index, 'stateProvince'] == 'Northern Territory':\n",
    "        frog_data.loc[index, 'stateProvince_numeric'] = 12\n",
    "        \n",
    "    elif frog_data.loc[index, 'stateProvince'] == 'Australian Capital Territory':\n",
    "        frog_data.loc[index, 'stateProvince_numeric'] = 13\n",
    "        \n",
    "    elif frog_data.loc[index, 'stateProvince'] == 'Western Australia':\n",
    "        frog_data.loc[index, 'stateProvince_numeric'] = 14\n",
    "        \n",
    "    elif frog_data.loc[index, 'stateProvince'] == 'Free State':\n",
    "        frog_data.loc[index, 'stateProvince_numeric'] = 16\n",
    "        \n",
    "    elif frog_data.loc[index, 'stateProvince'] == 'Limon Province':\n",
    "        frog_data.loc[index, 'stateProvince_numeric'] = 17\n",
    "        \n",
    "    elif frog_data.loc[index, 'stateProvince'] == 'Cape Province':\n",
    "        frog_data.loc[index, 'stateProvince_numeric'] = 18\n",
    "        \n",
    "    elif frog_data.loc[index, 'stateProvince'] == 'Free State Province':\n",
    "        frog_data.loc[index, 'stateProvince_numeric'] = 19\n",
    "        \n",
    "    elif frog_data.loc[index, 'stateProvince'] == 'KwaZulu-Natal Province':\n",
    "        frog_data.loc[index, 'stateProvince_numeric'] = 20\n",
    "        \n",
    "    elif frog_data.loc[index, 'stateProvince'] == 'Limon':\n",
    "        frog_data.loc[index, 'stateProvince_numeric'] = 21\n",
    "        \n",
    "    elif frog_data.loc[index, 'stateProvince'] == 'Limpopo Province':\n",
    "        frog_data.loc[index, 'stateProvince_numeric'] = 22\n",
    "        \n",
    "    elif frog_data.loc[index, 'stateProvince'] == 'Limpopo':\n",
    "        frog_data.loc[index, 'stateProvince_numeric'] = 23\n",
    "        \n",
    "    elif frog_data.loc[index, 'stateProvince'] == 'Eastern Cape':\n",
    "        frog_data.loc[index, 'stateProvince_numeric'] = 24\n",
    "        \n",
    "    elif frog_data.loc[index, 'stateProvince'] == 'Mpumalanga':\n",
    "        frog_data.loc[index, 'stateProvince_numeric'] = 25\n",
    "        \n",
    "    elif frog_data.loc[index, 'stateProvince'] == 'Cartago':\n",
    "        frog_data.loc[index, 'stateProvince_numeric'] = 26\n",
    "        \n",
    "    elif frog_data.loc[index, 'stateProvince'] == 'San José':\n",
    "        frog_data.loc[index, 'stateProvince_numeric'] = 27\n",
    "        \n",
    "    elif frog_data.loc[index, 'stateProvince'] == 'Guanacaste':\n",
    "        frog_data.loc[index, 'stateProvince_numeric'] = 28\n",
    "        \n",
    "    elif frog_data.loc[index, 'stateProvince'] == 'North West':\n",
    "        frog_data.loc[index, 'stateProvince_numeric'] = 29\n",
    "        \n",
    "    elif frog_data.loc[index, 'stateProvince'] == 'Northern Cape':\n",
    "        frog_data.loc[index, 'stateProvince_numeric'] = 30\n",
    "        \n",
    "    elif frog_data.loc[index, 'stateProvince'] == 'San Jose':\n",
    "        frog_data.loc[index, 'stateProvince_numeric'] = 31\n",
    "        \n",
    "    elif frog_data.loc[index, 'stateProvince'] == 'Capitol Territory':\n",
    "        frog_data.loc[index, 'stateProvince_numeric'] = 32\n",
    "        \n",
    "    elif frog_data.loc[index, 'stateProvince'] == 'Cartago Province':\n",
    "        frog_data.loc[index, 'stateProvince_numeric'] = 33\n",
    "        \n",
    "    elif frog_data.loc[index, 'stateProvince'] == 'Puntarenas Province':\n",
    "        frog_data.loc[index, 'stateProvince_numeric'] = 34\n",
    "        \n",
    "    elif frog_data.loc[index, 'stateProvince'] == 'Eastern Cape Province':\n",
    "        frog_data.loc[index, 'stateProvince_numeric'] = 35\n",
    "        \n",
    "    elif frog_data.loc[index, 'stateProvince'] == 'Transvaal':\n",
    "        frog_data.loc[index, 'stateProvince_numeric'] = 36\n",
    "        \n",
    "    elif frog_data.loc[index, 'stateProvince'] == 'Cape':\n",
    "        frog_data.loc[index, 'stateProvince_numeric'] = 37\n",
    "        \n",
    "    elif frog_data.loc[index, 'stateProvince'] == 'Jervis Bay Territory':\n",
    "        frog_data.loc[index, 'stateProvince_numeric'] = 38\n",
    "        \n",
    "    elif frog_data.loc[index, 'stateProvince'] == 'Gauteng Province':\n",
    "        frog_data.loc[index, 'stateProvince_numeric'] = 39\n",
    "        \n",
    "    elif frog_data.loc[index, 'stateProvince'] == 'Alajuela Province':\n",
    "        frog_data.loc[index, 'stateProvince_numeric'] = 40\n",
    "        \n",
    "    elif frog_data.loc[index, 'stateProvince'] == 'Heredia Province':\n",
    "        frog_data.loc[index, 'stateProvince_numeric'] = 41\n",
    "        \n",
    "    elif frog_data.loc[index, 'stateProvince'] == 'Transvaal Province':\n",
    "        frog_data.loc[index, 'stateProvince_numeric'] = 42\n",
    "        \n",
    "    elif frog_data.loc[index, 'stateProvince'] == 'New south wales':\n",
    "        frog_data.loc[index, 'stateProvince_numeric'] = 43\n",
    "        \n",
    "    elif frog_data.loc[index, 'stateProvince'] == 'Western australia':\n",
    "        frog_data.loc[index, 'stateProvince_numeric'] = 44\n",
    "        \n",
    "    elif frog_data.loc[index, 'stateProvince'] == 'Provincia de Puntarenas':\n",
    "        frog_data.loc[index, 'stateProvince_numeric'] = 45\n",
    "        \n",
    "    elif frog_data.loc[index, 'stateProvince'] == 'Cape Prov.':\n",
    "        frog_data.loc[index, 'stateProvince_numeric'] = 46\n",
    "        \n",
    "    elif frog_data.loc[index, 'stateProvince'] == 'Natal Prov.':\n",
    "        frog_data.loc[index, 'stateProvince_numeric'] = 47\n",
    "        \n",
    "    elif frog_data.loc[index, 'stateProvince'] == 'Limon Prov.':\n",
    "        frog_data.loc[index, 'stateProvince_numeric'] = 48\n",
    "                \n",
    "    elif frog_data.loc[index, 'stateProvince'] == 'Transvaal Prov.':\n",
    "        frog_data.loc[index, 'stateProvince_numeric'] = 49\n",
    "        \n",
    "    else :\n",
    "        frog_data.loc[index, 'stateProvince_numeric'] = 0\n",
    "\n",
    "print(frog_data[['stateProvince','stateProvince_numeric']].head())\n"
   ]
  },
  {
   "cell_type": "code",
   "execution_count": null,
   "id": "8142d76e",
   "metadata": {
    "cell_style": "split",
    "code_folding": [
     4
    ]
   },
   "outputs": [],
   "source": [
    "# create numeric features for variables\n",
    "# species\n",
    "frog_data['species_numeric'] = 0\n",
    "\n",
    "for index, value in frog_data.iterrows() :\n",
    "    \n",
    "    if frog_data.loc[index, 'species'] == 'Litoria Fallax':\n",
    "        frog_data.loc[index, 'species_numeric'] = 1\n",
    "    \n",
    "    elif frog_data.loc[index, 'species'] == 'Agalychnis Callidryas':\n",
    "        frog_data.loc[index, 'species_numeric'] = 2\n",
    "    \n",
    "    elif frog_data.loc[index, 'species'] == 'Dendrobates Auratus':\n",
    "        frog_data.loc[index, 'species_numeric'] = 3\n",
    "        \n",
    "    elif frog_data.loc[index, 'species'] == 'Crinia Signifera':\n",
    "        frog_data.loc[index, 'species_numeric'] = 4\n",
    "        \n",
    "    elif frog_data.loc[index, 'species'] == 'Xenopus Laevis':\n",
    "        frog_data.loc[index, 'species_numeric'] = 5\n",
    "        \n",
    "    elif frog_data.loc[index, 'species'] == 'Chiromantis Xerampelina':\n",
    "        frog_data.loc[index, 'species_numeric'] = 6\n",
    "        \n",
    "    elif frog_data.loc[index, 'species'] == 'Ranoidea Australis':\n",
    "        frog_data.loc[index, 'species_numeric'] = 7\n",
    "        \n",
    "    elif frog_data.loc[index, 'species'] == 'Austrochaperina Pluvialis':\n",
    "        frog_data.loc[index, 'species_numeric'] = 8\n",
    "        \n",
    "    elif frog_data.loc[index, 'species'] == 'Crinia Glauerti':\n",
    "        frog_data.loc[index, 'species_numeric'] = 9\n",
    "        \n",
    "    else :\n",
    "        frog_data.loc[index, 'species_numeric'] = 0\n",
    "\n",
    "print(frog_data[['species','species_numeric']].head())"
   ]
  },
  {
   "cell_type": "code",
   "execution_count": null,
   "id": "1fd327d0",
   "metadata": {
    "cell_style": "center"
   },
   "outputs": [],
   "source": [
    "# counting how many year values are missing\n",
    "# all_frog_data['year'].isna().sum()"
   ]
  },
  {
   "cell_type": "code",
   "execution_count": null,
   "id": "553e7f6a",
   "metadata": {
    "cell_style": "center"
   },
   "outputs": [],
   "source": [
    "# filling the missing values from year variable\n",
    "# all_frog_data['year'].fillna(all_frog_data['year'].mode()[0], inplace=True)\n",
    "\n",
    "# all_frog_data['year'].isna().sum()"
   ]
  },
  {
   "cell_type": "code",
   "execution_count": null,
   "id": "95a58a8e",
   "metadata": {},
   "outputs": [],
   "source": [
    "# see numerical variables\n",
    "frog_data[['decimalLatitude', 'decimalLongitude','country_numeric',   # 'continent_numeric' *removed*\n",
    "         'stateProvince_numeric', 'species_numeric']].head()"
   ]
  },
  {
   "cell_type": "markdown",
   "id": "22082e69",
   "metadata": {},
   "source": [
    "After changing the categorical variables into numeric variables we are making our own data frame with just the numeric values."
   ]
  },
  {
   "cell_type": "code",
   "execution_count": null,
   "id": "64914c73",
   "metadata": {
    "scrolled": true
   },
   "outputs": [],
   "source": [
    "# seperate df into only numeric values\n",
    "frog_data_numeric = frog_data[['decimalLatitude', 'decimalLongitude','country_numeric', # 'continent_numeric' *removed*\n",
    "                               'stateProvince_numeric', 'species_numeric']]\n",
    "frog_data_numeric.head()"
   ]
  },
  {
   "cell_type": "code",
   "execution_count": null,
   "id": "ecd89df1",
   "metadata": {},
   "outputs": [],
   "source": [
    "# see the types of data\n",
    "frog_data_numeric.dtypes"
   ]
  },
  {
   "cell_type": "code",
   "execution_count": null,
   "id": "d22e12b2",
   "metadata": {},
   "outputs": [],
   "source": [
    "# #changing year column to integer for analysis purposes\n",
    "# frog_data_numeric['year'] = frog_data_numeric['year'].values.astype(np.int64)\n",
    "\n",
    "# # see the types of data\n",
    "# frog_data_numeric.dtypes"
   ]
  },
  {
   "cell_type": "markdown",
   "id": "91e84c9a",
   "metadata": {},
   "source": [
    "Next, we are getting the data set up as X and Y variables and creating training and testing sets."
   ]
  },
  {
   "cell_type": "code",
   "execution_count": null,
   "id": "e6877464",
   "metadata": {},
   "outputs": [],
   "source": [
    "# creating predictor and response variables\n",
    "x = frog_data_numeric.drop(['species_numeric'], axis = 1)\n",
    "\n",
    "y = frog_data_numeric.loc[:, 'species_numeric']"
   ]
  },
  {
   "cell_type": "code",
   "execution_count": null,
   "id": "cf93cc87",
   "metadata": {},
   "outputs": [],
   "source": [
    "# split data into training and testing\n",
    "x_train, x_test, y_train, y_test = train_test_split(x,y,test_size = .25)\n"
   ]
  },
  {
   "cell_type": "code",
   "execution_count": null,
   "id": "4cabaf61",
   "metadata": {
    "code_folding": [
     0
    ]
   },
   "outputs": [],
   "source": [
    "# running a logistic regression\n",
    "model_LR = 'Logistic Regression'\n",
    "\n",
    "# start model\n",
    "logreg = sklearn.linear_model.LogisticRegression()\n",
    "\n",
    "# fitting the model to the training data\n",
    "logreg_fit = logreg.fit(x_train, y_train)\n",
    "\n",
    "# predicting the outputs\n",
    "logreg_predict = logreg.predict(x_test)\n",
    "\n",
    "# score the results using r-squared\n",
    "logreg_train_score = logreg.score(x_train, y_train).round(4) \n",
    "logreg_test_score  = logreg.score(x_test, y_test).round(4)   \n",
    "logreg_gap         = abs(logreg_train_score - logreg_test_score).round(4)\n",
    "\n",
    "# displaying results\n",
    "print('Model Name     :', model_LR)\n",
    "print('Training Score :', logreg_train_score)\n",
    "print('Testing Score  :', logreg_test_score)\n",
    "print('Train-Test Gap :', logreg_gap)"
   ]
  },
  {
   "cell_type": "code",
   "execution_count": null,
   "id": "08ebee24",
   "metadata": {
    "code_folding": []
   },
   "outputs": [],
   "source": [
    "# plotting a confusion matric of the results\n",
    "conf_matrix = confusion_matrix(y_test, logreg_predict)\n",
    "\n",
    "print(conf_matrix)"
   ]
  },
  {
   "cell_type": "code",
   "execution_count": null,
   "id": "9b1ab2cf",
   "metadata": {
    "code_folding": [
     0
    ]
   },
   "outputs": [],
   "source": [
    "# create a heatmap for better visuals\n",
    "import seaborn as sns\n",
    "\n",
    "# make the figure size bigger\n",
    "fig, ax = plt.subplots(figsize=(15,10))\n",
    "\n",
    "ax = sns.heatmap(conf_matrix, annot=True, cmap='Blues',\n",
    "                 linecolor  = 'black', linewidths = 0.5)\n",
    "\n",
    "ax.set_title('Frogs Confusion Matrix\\n');\n",
    "ax.set_xlabel('\\nPredicted Values')\n",
    "ax.set_ylabel('Actual Values ');\n",
    "\n",
    "## Display the visualization of the Confusion Matrix.\n",
    "plt.show()"
   ]
  },
  {
   "cell_type": "markdown",
   "id": "068e8b67",
   "metadata": {},
   "source": [
    "After trying to predict the species with regression I am going to try a KNN classifier model to see if it is more accurate."
   ]
  },
  {
   "cell_type": "code",
   "execution_count": null,
   "id": "ccc96d9b",
   "metadata": {
    "code_folding": [
     0
    ]
   },
   "outputs": [],
   "source": [
    "# scaling the data\n",
    "# import packages\n",
    "from sklearn.pipeline import make_pipeline\n",
    "from sklearn.preprocessing import StandardScaler\n",
    "from sklearn.cluster import KMeans\n",
    "\n",
    "# create scaler and pipepline on logreg\n",
    "scaler = StandardScaler()\n",
    "pipeline = make_pipeline(scaler, logreg)\n",
    "\n",
    "# fit and score the scaled data\n",
    "pipeline.fit(x_train, y_train)\n",
    "score = pipeline.score(x_test, y_test)\n",
    "score.round(decimals = 4)"
   ]
  },
  {
   "cell_type": "code",
   "execution_count": null,
   "id": "e0c5e2d6",
   "metadata": {
    "code_folding": [
     0
    ]
   },
   "outputs": [],
   "source": [
    "# load packages for KNN classifier \n",
    "from sklearn.neighbors import KNeighborsClassifier\n",
    "\n",
    "# create the KNN classifier\n",
    "knn = KNeighborsClassifier(n_neighbors = 20)\n",
    "\n",
    "# fit the classifier to the training data\n",
    "knn.fit(x_train, y_train)\n",
    "\n",
    "# print accuracy \n",
    "print(knn.score(x_test, y_test).round(decimals = 4))"
   ]
  },
  {
   "cell_type": "code",
   "execution_count": null,
   "id": "372c8458",
   "metadata": {
    "code_folding": [
     0
    ]
   },
   "outputs": [],
   "source": [
    "# try a loop over K classifiers\n",
    "# set arrays\n",
    "neighbors = np.arange(1,25)\n",
    "train_accuracy = np.empty(len(neighbors))\n",
    "test_accuracy = np.empty(len(neighbors))\n",
    "\n",
    "# creat a loop\n",
    "for i,k in enumerate(neighbors):\n",
    "    knn = KNeighborsClassifier(n_neighbors = k)\n",
    "    knn.fit(x_train, y_train)\n",
    "    ypredictions = knn.predict(x_test)\n",
    "    train_accuracy[i] = knn.score(x_train, y_train)\n",
    "    test_accuracy[i] = knn.score(x_test, y_test)"
   ]
  },
  {
   "cell_type": "code",
   "execution_count": null,
   "id": "59b0b256",
   "metadata": {},
   "outputs": [],
   "source": [
    "print((sum(test_accuracy)/len(test_accuracy)).round(decimals = 4))"
   ]
  },
  {
   "cell_type": "markdown",
   "id": "88d063ae",
   "metadata": {},
   "source": [
    "KNN classifiers seems to give the largest test accuracy."
   ]
  },
  {
   "cell_type": "code",
   "execution_count": null,
   "id": "d587d00f",
   "metadata": {},
   "outputs": [],
   "source": [
    "from sklearn.ensemble import RandomForestClassifier\n",
    "%matplotlib inline\n",
    "\n",
    "model = RandomForestClassifier()\n",
    "model.fit(x, y)\n",
    "\n",
    "(pd.Series(model.feature_importances_, index=x.columns)\n",
    "   .nlargest(4)\n",
    "   .plot(kind='barh'))"
   ]
  },
  {
   "cell_type": "markdown",
   "id": "9bf68094",
   "metadata": {},
   "source": [
    "After finding the model that we want to use, we are converting the numeric values back to categorical values for mapping purposes."
   ]
  },
  {
   "cell_type": "code",
   "execution_count": null,
   "id": "b7785606",
   "metadata": {
    "cell_style": "split"
   },
   "outputs": [],
   "source": [
    "frog_data_categorical = pd.DataFrame()"
   ]
  },
  {
   "cell_type": "code",
   "execution_count": null,
   "id": "b54d673f",
   "metadata": {
    "cell_style": "split"
   },
   "outputs": [],
   "source": [
    "# <-- the data frame is created to store the \n",
    "# categorical variables once converted"
   ]
  },
  {
   "cell_type": "code",
   "execution_count": null,
   "id": "b72090d7",
   "metadata": {
    "cell_style": "split",
    "code_folding": [
     4
    ]
   },
   "outputs": [],
   "source": [
    "# convert numeric back to categorical\n",
    "# country\n",
    "frog_data_numeric['country_categorical'] = 0\n",
    "\n",
    "for index, value in frog_data_numeric.iterrows() :\n",
    "    \n",
    "    if frog_data_numeric.loc[index, 'country_numeric'] == 1:\n",
    "        frog_data_numeric.loc[index, 'country_categorical'] = 'Australia'\n",
    "    \n",
    "    elif frog_data_numeric.loc[index, 'country_numeric'] == 2 :\n",
    "        frog_data_numeric.loc[index, 'country_categorical'] = 'Costa Rica'\n",
    "    \n",
    "    elif frog_data_numeric.loc[index, 'country_numeric'] == 3:\n",
    "        frog_data_numeric.loc[index, 'country_categorical'] = 'South Africa'\n",
    "        \n",
    "    else :\n",
    "        frog_data_numeric.loc[index, 'country_categorical'] = 0\n",
    "\n",
    "print(frog_data_numeric[['country_categorical','country_numeric']].head())"
   ]
  },
  {
   "cell_type": "code",
   "execution_count": null,
   "id": "308d3e5f",
   "metadata": {
    "cell_style": "split",
    "code_folding": []
   },
   "outputs": [],
   "source": [
    "# create categorical features for variables\n",
    "# continent\n",
    "# frog_data_numeric['continent_categorical'] = 0\n",
    "\n",
    "# for index, value in frog_data_numeric.iterrows() :\n",
    "    \n",
    "#     if frog_data_numeric.loc[index, 'continent_numeric'] == 1:\n",
    "#         frog_data_numeric.loc[index, 'continent_categorical'] = 'Australia'\n",
    "    \n",
    "#     elif frog_data_numeric.loc[index, 'continent_numeric'] == 2:\n",
    "#         frog_data_numeric.loc[index, 'continent_categorical'] = 'Central America'\n",
    "    \n",
    "#     elif frog_data_numeric.loc[index, 'continent_numeric'] == 3:\n",
    "#         frog_data_numeric.loc[index, 'continent_categorical'] = 'Africa'\n",
    "        \n",
    "#     else :\n",
    "#         frog_data_numeric.loc[index, 'continent_categorical'] = 0\n",
    "\n",
    "# print(frog_data_numeric[['continent_numeric','continent_categorical']].head())"
   ]
  },
  {
   "cell_type": "markdown",
   "id": "069181b6",
   "metadata": {},
   "source": [
    "                             Removed the translation of continent to avoid future errors with testing dataset.^"
   ]
  },
  {
   "cell_type": "code",
   "execution_count": null,
   "id": "55f0dc99",
   "metadata": {
    "code_folding": [
     4
    ]
   },
   "outputs": [],
   "source": [
    "# create categroical features for variables\n",
    "# state/province\n",
    "frog_data_numeric['stateProvince_categorical'] = 0\n",
    "\n",
    "for index, value in frog_data_numeric.iterrows() :\n",
    "    \n",
    "    if frog_data_numeric.loc[index, 'stateProvince_numeric'] == 1:\n",
    "        frog_data_numeric.loc[index, 'stateProvince_categorical'] = 'New South Wales'\n",
    "    \n",
    "    elif frog_data_numeric.loc[index, 'stateProvince_numeric'] == 2:\n",
    "        frog_data_numeric.loc[index, 'stateProvince_categorical'] = 'Puntarenas'\n",
    "    \n",
    "    elif frog_data_numeric.loc[index, 'stateProvince_numeric'] == 3:\n",
    "        frog_data_numeric.loc[index, 'stateProvince_categorical'] = 'Heredia'\n",
    "        \n",
    "    elif frog_data_numeric.loc[index, 'stateProvince_numeric'] == 4:\n",
    "        frog_data_numeric.loc[index, 'stateProvince_categorical'] = 'Queensland'\n",
    "           \n",
    "    elif frog_data_numeric.loc[index, 'stateProvince_numeric'] == 5:\n",
    "        frog_data_numeric.loc[index, 'stateProvince_categorical'] = 'Limón'\n",
    "           \n",
    "    elif frog_data_numeric.loc[index, 'stateProvince_numeric'] == 6:\n",
    "        frog_data_numeric.loc[index, 'stateProvince_categorical'] = 'South Australia'\n",
    "           \n",
    "    elif frog_data_numeric.loc[index, 'stateProvince_numeric'] == 7:\n",
    "        frog_data_numeric.loc[index, 'stateProvince_categorical'] = 'Gauteng'\n",
    "        \n",
    "    elif frog_data_numeric.loc[index, 'stateProvince_numeric'] == 8:\n",
    "        frog_data_numeric.loc[index, 'stateProvince_categorical'] = 'Western Cape'\n",
    "        \n",
    "    elif frog_data_numeric.loc[index, 'stateProvince_numeric'] == 9:\n",
    "        frog_data_numeric.loc[index, 'stateProvince_categorical'] = 'Tasmania'\n",
    "        \n",
    "    elif frog_data_numeric.loc[index, 'stateProvince_numeric'] == 10:\n",
    "        frog_data_numeric.loc[index, 'stateProvince_categorical'] = 'Alajuela'\n",
    "        \n",
    "    elif frog_data_numeric.loc[index, 'stateProvince_numeric'] == 11:\n",
    "        frog_data_numeric.loc[index, 'stateProvince_categorical'] = 'KwaZulu-Natal'\n",
    "        \n",
    "    elif frog_data_numeric.loc[index, 'stateProvince_numeric'] == 12:\n",
    "        frog_data_numeric.loc[index, 'stateProvince_categorical'] = 'Northern Territory'\n",
    "        \n",
    "    elif frog_data_numeric.loc[index, 'stateProvince_numeric'] == 13:\n",
    "        frog_data_numeric.loc[index, 'stateProvince_categorical'] = 'Australian Capital Territory'\n",
    "        \n",
    "    elif frog_data_numeric.loc[index, 'stateProvince_numeric'] == 14:\n",
    "        frog_data_numeric.loc[index, 'stateProvince_categorical'] = 'Western Australia'\n",
    "        \n",
    "    elif frog_data_numeric.loc[index, 'stateProvince_numeric'] == 16:\n",
    "        frog_data_numeric.loc[index, 'stateProvince_categorical'] = 'Free State'\n",
    "        \n",
    "    elif frog_data_numeric.loc[index, 'stateProvince_numeric'] == 17:\n",
    "        frog_data_numeric.loc[index, 'stateProvince_categorical'] = 'Limon Province'\n",
    "        \n",
    "    elif frog_data_numeric.loc[index, 'stateProvince_numeric'] == 18:\n",
    "        frog_data_numeric.loc[index, 'stateProvince_categorical'] = 'Cape Province'\n",
    "        \n",
    "    elif frog_data_numeric.loc[index, 'stateProvince_numeric'] == 19:\n",
    "        frog_data_numeric.loc[index, 'stateProvince_categorical'] = 'Free State Province'\n",
    "        \n",
    "    elif frog_data_numeric.loc[index, 'stateProvince_numeric'] == 20:\n",
    "        frog_data_numeric.loc[index, 'stateProvince_categorical'] = 'KwaZulu-Natal Province'\n",
    "        \n",
    "    elif frog_data_numeric.loc[index, 'stateProvince_numeric'] == 21:\n",
    "        frog_data_numeric.loc[index, 'stateProvince_categorical'] = 'Limon'\n",
    "        \n",
    "    elif frog_data_numeric.loc[index, 'stateProvince_numeric'] == 22:\n",
    "        frog_data_numeric.loc[index, 'stateProvince_categorical'] = 'Limpopo Province'\n",
    "        \n",
    "    elif frog_data_numeric.loc[index, 'stateProvince_numeric'] == 23:\n",
    "        frog_data_numeric.loc[index, 'stateProvince_categorical'] = 'Limpopo'\n",
    "        \n",
    "    elif frog_data_numeric.loc[index, 'stateProvince_numeric'] == 24:\n",
    "        frog_data_numeric.loc[index, 'stateProvince_categorical'] = 'Eastern Cape'\n",
    "        \n",
    "    elif frog_data_numeric.loc[index, 'stateProvince_numeric'] == 25:\n",
    "        frog_data_numeric.loc[index, 'stateProvince_categorical'] = 'Mpumalanga'\n",
    "        \n",
    "    elif frog_data_numeric.loc[index, 'stateProvince_numeric'] == 26:\n",
    "        frog_data_numeric.loc[index, 'stateProvince_categorical'] = 'Cartago'\n",
    "        \n",
    "    elif frog_data_numeric.loc[index, 'stateProvince_numeric'] == 27:\n",
    "        frog_data_numeric.loc[index, 'stateProvince_categorical'] = 'San José'\n",
    "        \n",
    "    elif frog_data_numeric.loc[index, 'stateProvince_numeric'] == 28:\n",
    "        frog_data_numeric.loc[index, 'stateProvince_categorical'] = 'Guanacaste'\n",
    "        \n",
    "    elif frog_data_numeric.loc[index, 'stateProvince_numeric'] == 29:\n",
    "        frog_data_numeric.loc[index, 'stateProvince_categorical'] = 'North West'\n",
    "        \n",
    "    elif frog_data_numeric.loc[index, 'stateProvince_numeric'] == 30:\n",
    "        frog_data_numeric.loc[index, 'stateProvince_categorical'] = 'Northern Cape'\n",
    "        \n",
    "    elif frog_data_numeric.loc[index, 'stateProvince_numeric'] == 31:\n",
    "        frog_data_numeric.loc[index, 'stateProvince_categorical'] = 'San Jose'\n",
    "        \n",
    "    elif frog_data_numeric.loc[index, 'stateProvince_numeric'] == 32:\n",
    "        frog_data_numeric.loc[index, 'stateProvince_categorical'] = 'Capitol Territory'\n",
    "        \n",
    "    elif frog_data_numeric.loc[index, 'stateProvince_numeric'] == 33:\n",
    "        frog_data_numeric.loc[index, 'stateProvince_categorical'] = 'Cartago Province'\n",
    "        \n",
    "    elif frog_data_numeric.loc[index, 'stateProvince_numeric'] == 34:\n",
    "        frog_data_numeric.loc[index, 'stateProvince_categorical'] = 'Puntarenas Province'\n",
    "        \n",
    "    elif frog_data_numeric.loc[index, 'stateProvince_numeric'] == 35:\n",
    "        frog_data_numeric.loc[index, 'stateProvince_categorical'] = 'Eastern Cape Province'\n",
    "        \n",
    "    elif frog_data_numeric.loc[index, 'stateProvince_numeric'] == 36:\n",
    "        frog_data_numeric.loc[index, 'stateProvince_categorical'] = 'Transvaal'\n",
    "        \n",
    "    elif frog_data_numeric.loc[index, 'stateProvince_numeric'] == 37:\n",
    "        frog_data_numeric.loc[index, 'stateProvince_categorical'] = 'Cape'\n",
    "        \n",
    "    elif frog_data_numeric.loc[index, 'stateProvince_numeric'] == 38:\n",
    "        frog_data_numeric.loc[index, 'stateProvince_categorical'] = 'Jervis Bay Territory'\n",
    "        \n",
    "    elif frog_data_numeric.loc[index, 'stateProvince_numeric'] == 39:\n",
    "        frog_data_numeric.loc[index, 'stateProvince_categorical'] = 'Gauteng Province'\n",
    "        \n",
    "    elif frog_data_numeric.loc[index, 'stateProvince_numeric'] == 40:\n",
    "        frog_data_numeric.loc[index, 'stateProvince_categorical'] = 'Alajuela Province'\n",
    "        \n",
    "    elif frog_data_numeric.loc[index, 'stateProvince_numeric'] == 41:\n",
    "        frog_data_numeric.loc[index, 'stateProvince_categorical'] = 'Heredia Province'\n",
    "        \n",
    "    elif frog_data_numeric.loc[index, 'stateProvince_numeric'] == 42:\n",
    "        frog_data_numeric.loc[index, 'stateProvince_categorical'] = 'Transvaal Province'\n",
    "        \n",
    "    elif frog_data_numeric.loc[index, 'stateProvince_numeric'] == 43:\n",
    "        frog_data_numeric.loc[index, 'stateProvince_categorical'] = 'New south wales'\n",
    "        \n",
    "    elif frog_data_numeric.loc[index, 'stateProvince_numeric'] == 44:\n",
    "        frog_data_numeric.loc[index, 'stateProvince_categorical'] = 'Western australia'\n",
    "        \n",
    "    elif frog_data_numeric.loc[index, 'stateProvince_numeric'] == 45:\n",
    "        frog_data_numeric.loc[index, 'stateProvince_categorical'] = 'Provincia de Puntarenas'\n",
    "        \n",
    "    elif frog_data_numeric.loc[index, 'stateProvince_numeric'] == 46:\n",
    "        frog_data_numeric.loc[index, 'stateProvince_categorical'] = 'Cape Prov.'\n",
    "        \n",
    "    elif frog_data_numeric.loc[index, 'stateProvince_numeric'] == 47:\n",
    "        frog_data_numeric.loc[index, 'stateProvince_categorical'] = 'Natal Prov.'\n",
    "        \n",
    "    elif frog_data_numeric.loc[index, 'stateProvince_numeric'] == 48:\n",
    "        frog_data_numeric.loc[index, 'stateProvince_categorical'] = 'Limon Prov.'\n",
    "                \n",
    "    elif frog_data_numeric.loc[index, 'stateProvince_numeric'] == 49:\n",
    "        frog_data_numeric.loc[index, 'stateProvince_categorical'] = 'Transvaal Prov.'\n",
    "        \n",
    "    else :\n",
    "        frog_data_numeric.loc[index, 'stateProvince_categorical'] = 0\n",
    "\n",
    "print(frog_data_numeric[['stateProvince_categorical','stateProvince_numeric']].head())"
   ]
  },
  {
   "cell_type": "code",
   "execution_count": null,
   "id": "7f23a8f5",
   "metadata": {
    "code_folding": [
     4
    ],
    "scrolled": true
   },
   "outputs": [],
   "source": [
    "# create categorical features for variables\n",
    "# species\n",
    "frog_data_numeric['species_categorical'] = 0\n",
    "\n",
    "for index, value in frog_data_numeric.iterrows() :\n",
    "    \n",
    "    if frog_data_numeric.loc[index, 'species_numeric'] == 1:\n",
    "        frog_data_numeric.loc[index, 'species_categorical'] = 'Litoria Fallax'\n",
    "    \n",
    "    elif frog_data_numeric.loc[index, 'species_numeric'] == 2:\n",
    "        frog_data_numeric.loc[index, 'species_categorical'] = 'Agalychnis Callidryas'\n",
    "    \n",
    "    elif frog_data_numeric.loc[index, 'species_numeric'] == 3:\n",
    "        frog_data_numeric.loc[index, 'species_categorical'] = 'Dendrobates Auratus'\n",
    "        \n",
    "    elif frog_data_numeric.loc[index, 'species_numeric'] == 4:\n",
    "        frog_data_numeric.loc[index, 'species_categorical'] = 'Crinia Signifera'\n",
    "        \n",
    "    elif frog_data_numeric.loc[index, 'species_numeric'] == 5:\n",
    "        frog_data_numeric.loc[index, 'species_categorical'] = 'Xenopus Laevis'\n",
    "        \n",
    "    elif frog_data_numeric.loc[index, 'species_numeric'] == 6:\n",
    "        frog_data_numeric.loc[index, 'species_categorical'] = 'Chiromantis Xerampelina'\n",
    "        \n",
    "    elif frog_data_numeric.loc[index, 'species_numeric'] == 7:\n",
    "        frog_data_numeric.loc[index, 'species_categorical'] = 'Ranoidea Australis'\n",
    "        \n",
    "    elif frog_data_numeric.loc[index, 'species_numeric'] == 8:\n",
    "        frog_data_numeric.loc[index, 'species_categorical'] = 'Austrochaperina Pluvialis'\n",
    "        \n",
    "    elif frog_data_numeric.loc[index, 'species_numeric'] == 9:\n",
    "        frog_data_numeric.loc[index, 'species_categorical'] = 'Crinia Glauerti'\n",
    "        \n",
    "    else :\n",
    "        frog_data_numeric.loc[index, 'species_categorical'] = 0\n",
    "\n",
    "print(frog_data_numeric[['species_categorical','species_numeric']].head())"
   ]
  },
  {
   "cell_type": "code",
   "execution_count": null,
   "id": "89c4ac79",
   "metadata": {
    "scrolled": true
   },
   "outputs": [],
   "source": [
    "# seperate df into only categorical values\n",
    "frog_data_categorical = frog_data_numeric[['decimalLatitude', 'decimalLongitude','country_categorical', # 'continent_categorical' *removed*\n",
    "         'stateProvince_categorical', 'species_categorical']]\n",
    "frog_data_categorical.head()"
   ]
  },
  {
   "cell_type": "markdown",
   "id": "5fe1aec9",
   "metadata": {},
   "source": [
    "# Building Maps"
   ]
  },
  {
   "cell_type": "code",
   "execution_count": null,
   "id": "a8230284",
   "metadata": {},
   "outputs": [],
   "source": [
    "frog_data_categorical.to_excel(\"Categorical_Data_Challenge.xlsx\",sheet_name = 'categorical data')"
   ]
  },
  {
   "cell_type": "code",
   "execution_count": null,
   "id": "7a2715f6",
   "metadata": {},
   "outputs": [],
   "source": [
    "# set up data frame with only Australia data\n",
    "Australia = pd.DataFrame() # setting up the data frame\n",
    "\n",
    "# copying columns for only Australia\n",
    "Australia = frog_data_categorical.loc[frog_data_categorical['country_categorical'].str.startswith('Australia')]"
   ]
  },
  {
   "cell_type": "code",
   "execution_count": null,
   "id": "a97de94a",
   "metadata": {},
   "outputs": [],
   "source": [
    "# set up dataframe with only South Africa Data\n",
    "South_Africa = pd.DataFrame() # setting up the data frame\n",
    "\n",
    "# copying columns for only Afirca\n",
    "South_Africa = frog_data_categorical.loc[frog_data_categorical['country_categorical'].str.startswith('South Africa')]"
   ]
  },
  {
   "cell_type": "code",
   "execution_count": null,
   "id": "056fca72",
   "metadata": {},
   "outputs": [],
   "source": [
    "# set up dataframe with only Costa Rica data\n",
    "Costa_Rica = pd.DataFrame() # setting up the data frame\n",
    "\n",
    "# copying columns for only Afirca\n",
    "Costa_Rica = frog_data_categorical.loc[frog_data_categorical['country_categorical'].str.startswith('Costa Rica')]"
   ]
  },
  {
   "cell_type": "code",
   "execution_count": null,
   "id": "4591a74a",
   "metadata": {},
   "outputs": [],
   "source": [
    "# installing needing package\n",
    "pip install plotly # may need to run in command line to avoid invlaid syntax error"
   ]
  },
  {
   "cell_type": "code",
   "execution_count": null,
   "id": "413723b5",
   "metadata": {},
   "outputs": [],
   "source": [
    "# importing needed packages\n",
    "import pandas as pd\n",
    "import plotly.express as px\n",
    "\n",
    "# creating a map of Australia with the species shown at the given coordinates\n",
    "fig = px.scatter_mapbox(\n",
    "    Australia,  #adding our data frame\n",
    "    lat = Australia.decimalLatitude, # pulling latitude and longitude\n",
    "    lon = Australia.decimalLongitude,\n",
    "    center = {\"lat\": -26, \"lon\": 134},  # where map will be centered\n",
    "    width = 800,  # Width of map\n",
    "    height = 600,  # Height of map\n",
    "    hover_data = [\"species_categorical\"],  # what to display when hovering over map\n",
    "    color = Australia['species_categorical'], # colors of the dots in the map\n",
    "    zoom = 3 # how zoomed in the map is\n",
    ")\n",
    "\n",
    "fig.update_layout(mapbox_style=\"open-street-map\") # adding beautiful street layout to map\n",
    "\n",
    "fig.show()"
   ]
  },
  {
   "cell_type": "code",
   "execution_count": null,
   "id": "40cd9aa2",
   "metadata": {},
   "outputs": [],
   "source": [
    "# creating a map of Australia with the species shown at the given coordinates\n",
    "fig = px.scatter_mapbox(\n",
    "    South_Africa,  #adding our data frame\n",
    "    lat = South_Africa.decimalLatitude, # pulling latitude and longitude\n",
    "    lon = South_Africa.decimalLongitude,\n",
    "    center = {\"lat\": -29, \"lon\": 25},  # where map will be centered\n",
    "    width = 800,  # Width of map\n",
    "    height = 600,  # Height of map\n",
    "    hover_data = [\"species_categorical\"],  # what to display when hovering over map\n",
    "    color = South_Africa['species_categorical'], # colors of the dots in the map\n",
    "    zoom = 4 # how zoomed in the map is\n",
    ")\n",
    "\n",
    "fig.update_layout(mapbox_style=\"open-street-map\") # adding beautiful street layout to map\n",
    "\n",
    "fig.show()"
   ]
  },
  {
   "cell_type": "code",
   "execution_count": null,
   "id": "8c746f7f",
   "metadata": {
    "scrolled": false
   },
   "outputs": [],
   "source": [
    "# creating a map of Australia with the species shown at the given coordinates\n",
    "fig = px.scatter_mapbox(\n",
    "    Costa_Rica,  #adding our data frame\n",
    "    lat = Costa_Rica.decimalLatitude, # pulling latitude and longitude\n",
    "    lon = Costa_Rica.decimalLongitude,\n",
    "    center = {\"lat\": 10, \"lon\": -84},  # where map will be centered\n",
    "    width = 800,  # Width of map\n",
    "    height = 600,  # Height of map\n",
    "    hover_data = [\"species_categorical\"],  # what to display when hovering over map\n",
    "    color = Costa_Rica['species_categorical'], # colors of the dots in the map\n",
    "    zoom = 6 # how zoomed in the map is\n",
    ")\n",
    "\n",
    "fig.update_layout(mapbox_style=\"open-street-map\") # adding beautiful street layout to map\n",
    "\n",
    "fig.show()"
   ]
  },
  {
   "cell_type": "markdown",
   "id": "470e79d2",
   "metadata": {},
   "source": [
    "# Preparing Submission"
   ]
  },
  {
   "cell_type": "markdown",
   "id": "fe6b91de",
   "metadata": {},
   "source": [
    "First, I have to read in the testing data and add state & country data into the dataset to be able to predict using KNN model. "
   ]
  },
  {
   "cell_type": "code",
   "execution_count": null,
   "id": "ccd96900",
   "metadata": {},
   "outputs": [],
   "source": [
    "test_template = pd.read_csv('Level_2_challenge_2_submission_template.csv')\n",
    "test_template['index'] = range(1, len(test_template) + 1)\n",
    "test_template.head()"
   ]
  },
  {
   "cell_type": "code",
   "execution_count": null,
   "id": "01c4b697",
   "metadata": {
    "cell_style": "split"
   },
   "outputs": [],
   "source": [
    "# pip install geopy\n",
    "from geopy.geocoders import Nominatim"
   ]
  },
  {
   "cell_type": "code",
   "execution_count": null,
   "id": "c8da4cfd",
   "metadata": {
    "cell_style": "split"
   },
   "outputs": [],
   "source": [
    "# initialize Nominatim API \n",
    "geolocator = Nominatim(user_agent=\"geoapiTest_DataChallenge\")"
   ]
  },
  {
   "cell_type": "code",
   "execution_count": null,
   "id": "7175b1fd",
   "metadata": {},
   "outputs": [],
   "source": [
    "def city_state_country(row):\n",
    "    coord = f\"{row['decimalLatitude']}, {row['decimalLongitude']}\"\n",
    "    location = geolocator.reverse(coord, exactly_one=True)\n",
    "    address = location.raw['address']\n",
    "    city = address.get('city', '')\n",
    "    state = address.get('state', '')\n",
    "    country = address.get('country', '')\n",
    "    row['city'] = city\n",
    "    row['state'] = state\n",
    "    row['country'] = country\n",
    "    return row\n",
    "\n",
    "test_template = test_template.apply(city_state_country, axis=1)\n",
    "test_template.head()"
   ]
  },
  {
   "cell_type": "code",
   "execution_count": null,
   "id": "685e98ad",
   "metadata": {
    "code_folding": [
     4
    ]
   },
   "outputs": [],
   "source": [
    "# create numeric features for variables\n",
    "# country\n",
    "test_template['country_numeric'] = 0\n",
    "\n",
    "for index, value in test_template.iterrows() :\n",
    "    \n",
    "    if test_template.loc[index, 'country'] == 'Australia':\n",
    "        test_template.loc[index, 'country_numeric'] = 1\n",
    "    \n",
    "    elif test_template.loc[index, 'country'] == 'Costa Rica':\n",
    "        test_template.loc[index, 'country_numeric'] = 2\n",
    "    \n",
    "    elif test_template.loc[index, 'country'] == 'South Africa':\n",
    "        test_template.loc[index, 'country_numeric'] = 3\n",
    "        \n",
    "    else :\n",
    "        test_template.loc[index, 'country_numeric'] = 0\n",
    "\n",
    "print(test_template[['country','country_numeric']].head())"
   ]
  },
  {
   "cell_type": "code",
   "execution_count": null,
   "id": "71ae9366",
   "metadata": {},
   "outputs": [],
   "source": [
    "# printing each country\n",
    "print(test_template['country'].unique())"
   ]
  },
  {
   "cell_type": "code",
   "execution_count": null,
   "id": "02c42695",
   "metadata": {
    "code_folding": [
     4
    ]
   },
   "outputs": [],
   "source": [
    "# create numeric features for variables\n",
    "# state/province\n",
    "test_template['stateProvince_numeric'] = 0\n",
    "\n",
    "for index, value in test_template.iterrows() :\n",
    "    \n",
    "    if test_template.loc[index, 'state'] == 'New South Wales':\n",
    "        test_template.loc[index, 'stateProvince_numeric'] = 1\n",
    "    \n",
    "    elif test_template.loc[index, 'state'] == 'Puntarenas':\n",
    "        test_template.loc[index, 'stateProvince_numeric'] = 2\n",
    "    \n",
    "    elif test_template.loc[index, 'state'] == 'Heredia':\n",
    "        test_template.loc[index, 'stateProvince_numeric'] = 3\n",
    "        \n",
    "    elif test_template.loc[index, 'state'] == 'Queensland':\n",
    "        test_template.loc[index, 'stateProvince_numeric'] = 4\n",
    "           \n",
    "    elif test_template.loc[index, 'state'] == 'Limón':\n",
    "        test_template.loc[index, 'stateProvince_numeric'] = 5\n",
    "           \n",
    "    elif test_template.loc[index, 'state'] == 'South Australia':\n",
    "        test_template.loc[index, 'stateProvince_numeric'] = 6\n",
    "           \n",
    "    elif test_template.loc[index, 'state'] == 'Gauteng':\n",
    "        test_template.loc[index, 'stateProvince_numeric'] = 7\n",
    "        \n",
    "    elif test_template.loc[index, 'state'] == 'Western Cape':\n",
    "        test_template.loc[index, 'stateProvince_numeric'] = 8\n",
    "        \n",
    "    elif test_template.loc[index, 'state'] == 'Tasmania':\n",
    "        test_template.loc[index, 'stateProvince_numeric'] = 9\n",
    "        \n",
    "    elif test_template.loc[index, 'state'] == 'Alajuela':\n",
    "        test_template.loc[index, 'stateProvince_numeric'] = 10\n",
    "        \n",
    "    elif test_template.loc[index, 'state'] == 'KwaZulu-Natal':\n",
    "        test_template.loc[index, 'stateProvince_numeric'] = 11\n",
    "        \n",
    "    elif test_template.loc[index, 'state'] == 'Northern Territory':\n",
    "        test_template.loc[index, 'stateProvince_numeric'] = 12\n",
    "        \n",
    "    elif test_template.loc[index, 'state'] == 'Australian Capital Territory':\n",
    "        test_template.loc[index, 'stateProvince_numeric'] = 13\n",
    "        \n",
    "    elif test_template.loc[index, 'state'] == 'Western Australia':\n",
    "        test_template.loc[index, 'stateProvince_numeric'] = 14\n",
    "        \n",
    "    elif test_template.loc[index, 'state'] == 'Free State':\n",
    "        test_template.loc[index, 'stateProvince_numeric'] = 16\n",
    "        \n",
    "    elif test_template.loc[index, 'state'] == 'Limon Province':\n",
    "        test_template.loc[index, 'stateProvince_numeric'] = 17\n",
    "        \n",
    "    elif test_template.loc[index, 'state'] == 'Cape Province':\n",
    "        test_template.loc[index, 'stateProvince_numeric'] = 18\n",
    "        \n",
    "    elif test_template.loc[index, 'state'] == 'Free State Province':\n",
    "        test_template.loc[index, 'stateProvince_numeric'] = 19\n",
    "        \n",
    "    elif test_template.loc[index, 'state'] == 'KwaZulu-Natal Province':\n",
    "        test_template.loc[index, 'stateProvince_numeric'] = 20\n",
    "        \n",
    "    elif test_template.loc[index, 'state'] == 'Limon':\n",
    "        test_template.loc[index, 'stateProvince_numeric'] = 21\n",
    "        \n",
    "    elif test_template.loc[index, 'state'] == 'Limpopo Province':\n",
    "        test_template.loc[index, 'stateProvince_numeric'] = 22\n",
    "        \n",
    "    elif test_template.loc[index, 'state'] == 'Limpopo':\n",
    "        test_template.loc[index, 'stateProvince_numeric'] = 23\n",
    "        \n",
    "    elif test_template.loc[index, 'state'] == 'Eastern Cape':\n",
    "        test_template.loc[index, 'stateProvince_numeric'] = 24\n",
    "        \n",
    "    elif test_template.loc[index, 'state'] == 'Mpumalanga':\n",
    "        test_template.loc[index, 'stateProvince_numeric'] = 25\n",
    "        \n",
    "    elif test_template.loc[index, 'state'] == 'Cartago':\n",
    "        test_template.loc[index, 'stateProvince_numeric'] = 26\n",
    "        \n",
    "    elif test_template.loc[index, 'state'] == 'San José':\n",
    "        frog_data.loc[index, 'stateProvince_numeric'] = 27\n",
    "        \n",
    "    elif test_template.loc[index, 'state'] == 'Guanacaste':\n",
    "        test_template.loc[index, 'stateProvince_numeric'] = 28\n",
    "        \n",
    "    elif test_template.loc[index, 'state'] == 'North West':\n",
    "        test_template.loc[index, 'stateProvince_numeric'] = 29\n",
    "        \n",
    "    elif test_template.loc[index, 'state'] == 'Northern Cape':\n",
    "        test_template.loc[index, 'stateProvince_numeric'] = 30\n",
    "        \n",
    "    elif test_template.loc[index, 'state'] == 'San Jose':\n",
    "        test_template.loc[index, 'stateProvince_numeric'] = 31\n",
    "        \n",
    "    elif test_template.loc[index, 'state'] == 'Capitol Territory':\n",
    "        test_template.loc[index, 'stateProvince_numeric'] = 32\n",
    "        \n",
    "    elif test_template.loc[index, 'state'] == 'Cartago Province':\n",
    "        test_template.loc[index, 'stateProvince_numeric'] = 33\n",
    "        \n",
    "    elif test_template.loc[index, 'state'] == 'Puntarenas Province':\n",
    "        test_template.loc[index, 'stateProvince_numeric'] = 34\n",
    "        \n",
    "    elif test_template.loc[index, 'state'] == 'Eastern Cape Province':\n",
    "        test_template.loc[index, 'stateProvince_numeric'] = 35\n",
    "        \n",
    "    elif test_template.loc[index, 'state'] == 'Transvaal':\n",
    "        test_template.loc[index, 'stateProvince_numeric'] = 36\n",
    "        \n",
    "    elif test_template.loc[index, 'state'] == 'Cape':\n",
    "        test_template.loc[index, 'stateProvince_numeric'] = 37\n",
    "        \n",
    "    elif test_template.loc[index, 'state'] == 'Jervis Bay Territory':\n",
    "        test_template.loc[index, 'stateProvince_numeric'] = 38\n",
    "        \n",
    "    elif test_template.loc[index, 'state'] == 'Gauteng Province':\n",
    "        test_template.loc[index, 'stateProvince_numeric'] = 39\n",
    "        \n",
    "    elif test_template.loc[index, 'state'] == 'Alajuela Province':\n",
    "        test_template.loc[index, 'stateProvince_numeric'] = 40\n",
    "        \n",
    "    elif test_template.loc[index, 'state'] == 'Heredia Province':\n",
    "        test_template.loc[index, 'stateProvince_numeric'] = 41\n",
    "        \n",
    "    elif test_template.loc[index, 'state'] == 'Transvaal Province':\n",
    "        test_template.loc[index, 'stateProvince_numeric'] = 42\n",
    "        \n",
    "    elif test_template.loc[index, 'state'] == 'New south wales':\n",
    "        test_template.loc[index, 'stateProvince_numeric'] = 43\n",
    "        \n",
    "    elif test_template.loc[index, 'state'] == 'Western australia':\n",
    "        test_template.loc[index, 'stateProvince_numeric'] = 44\n",
    "        \n",
    "    elif test_template.loc[index, 'state'] == 'Provincia de Puntarenas':\n",
    "        test_template.loc[index, 'stateProvince_numeric'] = 45\n",
    "        \n",
    "    elif test_template.loc[index, 'state'] == 'Cape Prov.':\n",
    "        test_template.loc[index, 'stateProvince_numeric'] = 46\n",
    "        \n",
    "    elif test_template.loc[index, 'state'] == 'Natal Prov.':\n",
    "        test_template.loc[index, 'stateProvince_numeric'] = 47\n",
    "        \n",
    "    elif test_template.loc[index, 'state'] == 'Limon Prov.':\n",
    "        test_template.loc[index, 'stateProvince_numeric'] = 48\n",
    "                \n",
    "    elif test_template.loc[index, 'state'] == 'Transvaal Prov.':\n",
    "        test_template.loc[index, 'stateProvince_numeric'] = 49\n",
    "        \n",
    "    else :\n",
    "        test_template.loc[index, 'stateProvince_numeric'] = 0\n",
    "\n",
    "print(test_template[['state','stateProvince_numeric']].head())\n"
   ]
  },
  {
   "cell_type": "code",
   "execution_count": null,
   "id": "a3672305",
   "metadata": {},
   "outputs": [],
   "source": [
    "# printing each state\n",
    "print(test_template['state'].unique())"
   ]
  },
  {
   "cell_type": "code",
   "execution_count": null,
   "id": "92eb513f",
   "metadata": {},
   "outputs": [],
   "source": [
    "# split the template into X and Y variables\n",
    "sub_x = test_template[['decimalLatitude','decimalLongitude', 'stateProvince_numeric','country_numeric']]\n",
    "\n",
    "sub_y = test_template[['Agalychnis Callidryas','Austrochaperina Pluvialis','Chiromantis Xerampelina','Crinia Glauerti',\n",
    "                      'Crinia Signifera','Cyclorana Australis','Dendrobates Auratus','Litoria Fallax','Xenopus Laevis']]"
   ]
  },
  {
   "cell_type": "code",
   "execution_count": null,
   "id": "aa33c92d",
   "metadata": {},
   "outputs": [],
   "source": [
    "test_predictions = knn.predict(sub_x)\n",
    "test_template['numeric_predictions'] = test_predictions"
   ]
  },
  {
   "cell_type": "code",
   "execution_count": null,
   "id": "508da122",
   "metadata": {},
   "outputs": [],
   "source": [
    "# printing each numeric predictions\n",
    "print(test_template['numeric_predictions'].unique())"
   ]
  },
  {
   "cell_type": "code",
   "execution_count": null,
   "id": "16e9d5a9",
   "metadata": {
    "code_folding": [
     0
    ],
    "scrolled": true
   },
   "outputs": [],
   "source": [
    "# lots of binary converters\n",
    "# create categorical features for variables\n",
    "# species\n",
    "test_template['species_categorical'] = 0\n",
    "\n",
    "for index, value in test_template.iterrows() :\n",
    "    \n",
    "    if test_template.loc[index, 'numeric_predictions'] == 1:\n",
    "        test_template.loc[index, 'species_categorical'] = 'Litoria Fallax'\n",
    "    \n",
    "    elif test_template.loc[index, 'numeric_predictions'] == 2:\n",
    "        test_template.loc[index, 'species_categorical'] = 'Agalychnis Callidryas'\n",
    "    \n",
    "    elif test_template.loc[index, 'numeric_predictions'] == 3:\n",
    "        test_template.loc[index, 'species_categorical'] = 'Dendrobates Auratus'\n",
    "        \n",
    "    elif test_template.loc[index, 'numeric_predictions'] == 4:\n",
    "        test_template.loc[index, 'species_categorical'] = 'Crinia Signifera'\n",
    "        \n",
    "    elif test_template.loc[index, 'numeric_predictions'] == 5:\n",
    "        test_template.loc[index, 'species_categorical'] = 'Xenopus Laevis'\n",
    "        \n",
    "    elif test_template.loc[index, 'numeric_predictions'] == 6:\n",
    "        test_template.loc[index, 'species_categorical'] = 'Chiromantis Xerampelina'\n",
    "        \n",
    "    elif test_template.loc[index, 'numeric_predictions'] == 7:\n",
    "        test_template.loc[index, 'species_categorical'] = 'Cyclorana Australis'\n",
    "        \n",
    "    elif test_template.loc[index, 'numeric_predictions'] == 8:\n",
    "        test_template.loc[index, 'species_categorical'] = 'Austrochaperina Pluvialis'\n",
    "        \n",
    "    elif test_template.loc[index, 'numeric_predictions'] == 9:\n",
    "        test_template.loc[index, 'species_categorical'] = 'Crinia Glauerti'\n",
    "        \n",
    "    else :\n",
    "        test_template.loc[index, 'species_categorical'] = 0\n",
    "\n",
    "print(test_template[['species_categorical','numeric_predictions']].head())"
   ]
  },
  {
   "cell_type": "code",
   "execution_count": null,
   "id": "d187da39",
   "metadata": {},
   "outputs": [],
   "source": [
    "test_template.head()"
   ]
  },
  {
   "cell_type": "code",
   "execution_count": null,
   "id": "485d81da",
   "metadata": {
    "code_folding": [
     0
    ]
   },
   "outputs": [],
   "source": [
    "# species to binary operators\n",
    "for index, value in test_template.iterrows() :\n",
    "    \n",
    "    if test_template.loc[index, 'species_categorical'] == 'Litoria Fallax':\n",
    "        test_template.loc[index, 'Litoria Fallax'] = 1\n",
    "    \n",
    "    elif test_template.loc[index, 'species_categorical'] == 'Agalychnis Callidryas':\n",
    "        test_template.loc[index, 'Agalychnis Callidryas'] = 1\n",
    "    \n",
    "    elif test_template.loc[index, 'species_categorical'] == 'Dendrobates Auratus':\n",
    "        test_template.loc[index, 'Dendrobates Auratus'] = 1\n",
    "        \n",
    "    elif test_template.loc[index, 'species_categorical'] == 'Crinia Signifera':\n",
    "        test_template.loc[index, 'Crinia Signifera'] = 1\n",
    "        \n",
    "    elif test_template.loc[index, 'species_categorical'] == 'Xenopus Laevis':\n",
    "        test_template.loc[index, 'Xenopus Laevis'] = 1\n",
    "        \n",
    "    elif test_template.loc[index, 'species_categorical'] == 'Chiromantis Xerampelina':\n",
    "        test_template.loc[index, 'Chiromantis Xerampelina'] =1\n",
    "        \n",
    "    elif test_template.loc[index, 'species_categorical'] == 'Cyclorana Australis':\n",
    "        test_template.loc[index, 'Cyclorana Australis'] = 1\n",
    "        \n",
    "    elif test_template.loc[index, 'species_categorical'] == 'Austrochaperina Pluvialis':\n",
    "        test_template.loc[index, 'Austrochaperina Pluvialis'] = 1\n",
    "        \n",
    "    elif test_template.loc[index, 'species_categorical'] == 'Crinia Glauerti':\n",
    "        test_template.loc[index, 'Crinia Glauerti'] = 1\n",
    "        \n",
    "    else :\n",
    "        break\n",
    "\n",
    "test_template.head(n = 5)"
   ]
  },
  {
   "cell_type": "code",
   "execution_count": null,
   "id": "c3016858",
   "metadata": {},
   "outputs": [],
   "source": [
    "test_template2 = test_template[['id','decimalLatitude','decimalLongitude','Agalychnis Callidryas',\n",
    "                                'Austrochaperina Pluvialis','Chiromantis Xerampelina','Crinia Glauerti',\n",
    "                                'Crinia Signifera','Cyclorana Australis','Dendrobates Auratus','Litoria Fallax',\n",
    "                                'Xenopus Laevis']].copy()"
   ]
  },
  {
   "cell_type": "code",
   "execution_count": null,
   "id": "d8ee616e",
   "metadata": {},
   "outputs": [],
   "source": [
    "test_template2.to_csv('Swearingen_Taylor_Level_2_submission.csv', index=None)"
   ]
  },
  {
   "cell_type": "markdown",
   "id": "cd446937",
   "metadata": {
    "cell_style": "center"
   },
   "source": [
    "# Submission File Completed!"
   ]
  },
  {
   "cell_type": "code",
   "execution_count": null,
   "id": "bf5a7afe",
   "metadata": {},
   "outputs": [],
   "source": [
    "pip freeze > requirements.txt "
   ]
  },
  {
   "cell_type": "code",
   "execution_count": null,
   "id": "586e58ae",
   "metadata": {},
   "outputs": [],
   "source": [
    "import pickle\n",
    "pickle.dump(knn, open('model.pkl','wb'))"
   ]
  }
 ],
 "metadata": {
  "kernelspec": {
   "display_name": "Python 3 (ipykernel)",
   "language": "python",
   "name": "python3"
  },
  "language_info": {
   "codemirror_mode": {
    "name": "ipython",
    "version": 3
   },
   "file_extension": ".py",
   "mimetype": "text/x-python",
   "name": "python",
   "nbconvert_exporter": "python",
   "pygments_lexer": "ipython3",
   "version": "3.9.7"
  },
  "toc": {
   "base_numbering": 1,
   "nav_menu": {},
   "number_sections": true,
   "sideBar": true,
   "skip_h1_title": false,
   "title_cell": "Table of Contents",
   "title_sidebar": "Contents",
   "toc_cell": false,
   "toc_position": {},
   "toc_section_display": true,
   "toc_window_display": false
  },
  "varInspector": {
   "cols": {
    "lenName": 16,
    "lenType": 16,
    "lenVar": 40
   },
   "kernels_config": {
    "python": {
     "delete_cmd_postfix": "",
     "delete_cmd_prefix": "del ",
     "library": "var_list.py",
     "varRefreshCmd": "print(var_dic_list())"
    },
    "r": {
     "delete_cmd_postfix": ") ",
     "delete_cmd_prefix": "rm(",
     "library": "var_list.r",
     "varRefreshCmd": "cat(var_dic_list()) "
    }
   },
   "position": {
    "height": "438.845px",
    "left": "996.252px",
    "right": "20px",
    "top": "121px",
    "width": "353.002px"
   },
   "types_to_exclude": [
    "module",
    "function",
    "builtin_function_or_method",
    "instance",
    "_Feature"
   ],
   "window_display": false
  }
 },
 "nbformat": 4,
 "nbformat_minor": 5
}
